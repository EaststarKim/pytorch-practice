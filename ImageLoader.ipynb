{
 "cells": [
  {
   "cell_type": "code",
   "execution_count": 4,
   "metadata": {},
   "outputs": [],
   "source": [
    "import torch,torchvision\n",
    "import torch.utils.data as data\n",
    "import torchvision.datasets as datasets\n",
    "import torchvision.transforms as transforms"
   ]
  },
  {
   "cell_type": "code",
   "execution_count": 1,
   "metadata": {},
   "outputs": [],
   "source": [
    "class SimpleLoader(object):\n",
    "    def __init__(self,dataset,batch_size,crop_size,transform=None,split=False,valid_size=0.1):\n",
    "        transform=transforms.Compose([transforms.Resize(256),\n",
    "                                      transforms.RandomCrop(crop_size),\n",
    "                                      transforms.ToTensor(),\n",
    "                                      transforms.Normalize(mean=[0.485,0.456,0.406],std=[0.229,0.224,0.225])]) if transform is None else transform\n",
    "        if type(dataset)==str:\n",
    "            if dataset=='CIFAR10':\n",
    "                self.num_classes=10\n",
    "                self.train_ds=datasets.CIFAR10(root='data',train=True,transform=transform,download=True)\n",
    "                self.test_ds=datasets.CIFAR10(root='data',train=False,transform=transform,download=True)\n",
    "            elif dataset=='CIFAR100':\n",
    "                self.num_classes=100\n",
    "                self.train_ds=datasets.CIFAR100(root='data',train=True,transform=transform,download=True)\n",
    "                self.test_ds=datasets.CIFAR100(root='data',train=False,transform=transform,download=True)\n",
    "            elif dataset=='ImageNet':\n",
    "                self.num_classes=1000\n",
    "                self.train_ds=datasets.ImageFolder(root='/home/osilab5/hdd/ImageNet/Data/train',transform=transform)\n",
    "                self.valid_ds=self.test_ds=datasets.ImageFolder(root='/home/osilab5/hdd/ImageNet/Data/val',transform=transform)\n",
    "        else:\n",
    "            raise Exception('wrong dataset')\n",
    "        \n",
    "        self.batch_size=batch_size\n",
    "        \n",
    "        if split:\n",
    "            valid_size=int(valid_size*len(self.train_ds))\n",
    "            train_size=len(self.train_ds)-valid_size\n",
    "            self.train_ds,self.valid_ds=data.random_split(self.train_ds,[train_size,valid_size])\n",
    "        else:\n",
    "            self.valid_ds=self.test_ds\n",
    "    \n",
    "    def GetNumClasses(self):\n",
    "        return self.num_classes\n",
    "    \n",
    "    def GetTrainLoader(self):\n",
    "        return data.DataLoader(self.train_ds,batch_size=self.batch_size,shuffle=True,num_workers=2,pin_memory=True,drop_last=True)\n",
    "    \n",
    "    def GetValidLoader(self):\n",
    "        return data.DataLoader(self.valid_ds,batch_size=self.batch_size*2,num_workers=2,pin_memory=True,drop_last=True)\n",
    "    \n",
    "    def GetTestLoader(self):\n",
    "        return data.DataLoader(self.test_ds,batch_size=self.batch_size*2,num_workers=2,pin_memory=True,drop_last=True)"
   ]
  },
  {
   "cell_type": "code",
   "execution_count": null,
   "metadata": {},
   "outputs": [],
   "source": []
  }
 ],
 "metadata": {
  "kernelspec": {
   "display_name": "Python 3",
   "language": "python",
   "name": "python3"
  },
  "language_info": {
   "codemirror_mode": {
    "name": "ipython",
    "version": 3
   },
   "file_extension": ".py",
   "mimetype": "text/x-python",
   "name": "python",
   "nbconvert_exporter": "python",
   "pygments_lexer": "ipython3",
   "version": "3.8.5"
  }
 },
 "nbformat": 4,
 "nbformat_minor": 4
}
