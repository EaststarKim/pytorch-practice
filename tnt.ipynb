{
 "cells": [
  {
   "cell_type": "code",
   "execution_count": 3,
   "metadata": {
    "executionInfo": {
     "elapsed": 9205,
     "status": "ok",
     "timestamp": 1615190228703,
     "user": {
      "displayName": "김동규",
      "photoUrl": "",
      "userId": "01810069264544511714"
     },
     "user_tz": -540
    },
    "id": "eTqMrFfwXQfe"
   },
   "outputs": [],
   "source": [
    "import os\n",
    "import torch,torchvision\n",
    "import torch.nn as nn\n",
    "import torch.optim as optim\n",
    "import torch.utils.data as data\n",
    "import torchvision.transforms as transforms\n",
    "from tqdm.notebook import tqdm"
   ]
  },
  {
   "cell_type": "code",
   "execution_count": 2,
   "metadata": {
    "executionInfo": {
     "elapsed": 9198,
     "status": "ok",
     "timestamp": 1615190228706,
     "user": {
      "displayName": "김동규",
      "photoUrl": "",
      "userId": "01810069264544511714"
     },
     "user_tz": -540
    },
    "id": "skuXP2C7XZuu"
   },
   "outputs": [],
   "source": [
    "def top_n_accuracy(outputs,labels,n=1):\n",
    "    num_obs,num_labels=outputs.shape\n",
    "    cnt=0\n",
    "    idx=num_labels-n\n",
    "    argsorted=torch.argsort(outputs,dim=1)\n",
    "    for i in range(num_obs):\n",
    "        if labels[i] in argsorted[i,idx:]:\n",
    "            cnt+=1\n",
    "    return cnt/num_obs"
   ]
  },
  {
   "cell_type": "markdown",
   "metadata": {
    "id": "HgI8NWV4Waqo"
   },
   "source": [
    "## Training"
   ]
  },
  {
   "cell_type": "code",
   "execution_count": 2,
   "metadata": {
    "executionInfo": {
     "elapsed": 9195,
     "status": "ok",
     "timestamp": 1615190228706,
     "user": {
      "displayName": "김동규",
      "photoUrl": "",
      "userId": "01810069264544511714"
     },
     "user_tz": -540
    },
    "id": "ViOBANvrYGle"
   },
   "outputs": [],
   "source": [
    "def train(model,device,num_epochs,train_loader,valid_loader,criterion,optimizer,scheduler=None,save=0,path=None):\n",
    "    model.train()\n",
    "    best_acc=0\n",
    "    for epoch in range(num_epochs):\n",
    "        #train\n",
    "        tcnt=0\n",
    "        train_loss=0\n",
    "        for inputs,labels in tqdm(train_loader,leave=False):\n",
    "            inputs,labels=inputs.to(device),labels.to(device)\n",
    "            outputs=model(inputs)\n",
    "            loss=criterion(outputs,labels)\n",
    "            train_loss+=loss.item()\n",
    "            optimizer.zero_grad()\n",
    "            loss.backward()\n",
    "            optimizer.step()\n",
    "            tcnt+=1\n",
    "        train_loss/=tcnt\n",
    "        #validation\n",
    "        vcnt=0\n",
    "        acc_top1=acc_top5=0\n",
    "        with torch.no_grad():\n",
    "            for inputs,labels in valid_loader:\n",
    "                inputs,labels=inputs.to(device),labels.to(device)\n",
    "                outputs=model(inputs)\n",
    "                loss=criterion(outputs,labels)\n",
    "                acc_top1+=top_n_accuracy(outputs,labels)\n",
    "                acc_top5+=top_n_accuracy(outputs,labels,n=5)\n",
    "                vcnt+=1\n",
    "            acc_top1/=vcnt\n",
    "            acc_top5/=vcnt\n",
    "        if scheduler is not None:\n",
    "            scheduler.step()\n",
    "        tqdm.write(f'Epoch {epoch+1:>2} \\t train_loss: {train_loss:>7.5f} \\t top1_acc: {acc_top1*100:>5.2f}% \\t top5_acc: {acc_top5*100:>5.2f}%')\n",
    "        if save>0:\n",
    "            if save>1 and epoch%10==9:\n",
    "                torch.save(model.state_dict(),os.path.join(path,'e'+str(epoch+1)))\n",
    "            if best_acc<acc_top1:\n",
    "                best_acc=acc_top1\n",
    "                torch.save(model.state_dict(),os.path.join(path,'best'))"
   ]
  },
  {
   "cell_type": "markdown",
   "metadata": {
    "id": "gXGkmDuFWcac"
   },
   "source": [
    "## Test"
   ]
  },
  {
   "cell_type": "code",
   "execution_count": 4,
   "metadata": {
    "executionInfo": {
     "elapsed": 9193,
     "status": "ok",
     "timestamp": 1615190228706,
     "user": {
      "displayName": "김동규",
      "photoUrl": "",
      "userId": "01810069264544511714"
     },
     "user_tz": -540
    },
    "id": "6slEY-sjYKZ_"
   },
   "outputs": [],
   "source": [
    "def test(model,device,test_loader,criterion):\n",
    "    model.eval()\n",
    "    cnt=0\n",
    "    test_loss=0\n",
    "    acc_top1=acc_top5=0\n",
    "    with torch.no_grad():\n",
    "        for inputs,labels in test_loader:\n",
    "            inputs,labels=inputs.to(device),labels.to(device)\n",
    "            outputs=model(inputs)\n",
    "            loss=criterion(outputs,labels)\n",
    "            test_loss+=loss.item()\n",
    "            acc_top1+=top_n_accuracy(outputs,labels)\n",
    "            acc_top5+=top_n_accuracy(outputs,labels,n=5)\n",
    "            cnt+=1\n",
    "        test_loss/=cnt\n",
    "        acc_top1/=cnt\n",
    "        acc_top5/=cnt\n",
    "    print(f'loss: {test_loss:>7.5f} \\t top1_acc: {acc_top1*100:>5.2f}% \\t top5_acc: {acc_top5*100:>5.2f}%')"
   ]
  },
  {
   "cell_type": "code",
   "execution_count": null,
   "metadata": {},
   "outputs": [],
   "source": []
  }
 ],
 "metadata": {
  "colab": {
   "authorship_tag": "ABX9TyMRGZb84c7VpguHrKP2dP/5",
   "collapsed_sections": [],
   "name": "tnt.ipynb",
   "provenance": [],
   "toc_visible": true
  },
  "kernelspec": {
   "display_name": "Python 3",
   "language": "python",
   "name": "python3"
  },
  "language_info": {
   "codemirror_mode": {
    "name": "ipython",
    "version": 3
   },
   "file_extension": ".py",
   "mimetype": "text/x-python",
   "name": "python",
   "nbconvert_exporter": "python",
   "pygments_lexer": "ipython3",
   "version": "3.8.5"
  }
 },
 "nbformat": 4,
 "nbformat_minor": 4
}
